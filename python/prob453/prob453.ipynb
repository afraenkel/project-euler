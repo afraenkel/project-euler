{
 "cells": [
  {
   "cell_type": "code",
   "execution_count": 126,
   "metadata": {
    "collapsed": true
   },
   "outputs": [],
   "source": [
    "%matplotlib inline\n",
    "import numpy as np\n",
    "import matplotlib.pyplot as plt\n",
    "import itertools as it"
   ]
  },
  {
   "cell_type": "code",
   "execution_count": 501,
   "metadata": {
    "collapsed": false
   },
   "outputs": [],
   "source": [
    "def angle(v):\n",
    "    '''v is a 3x2 array of three 2D points'''\n",
    "    return np.linalg.det(np.hstack([v,np.ones([3,1],dtype=int)]))\n",
    "\n",
    "def self_intersecting(p):\n",
    "    '''\n",
    "    Returns True if two lines in quadrilateral p is self-intersecting.  \n",
    "    p is represented as a 4x2 array (consecutive edges represented by rows).\n",
    "    '''\n",
    "    a1 = angle(p[[0,1,2]])\n",
    "    a2 = angle(p[[0,1,3]])\n",
    "    a3 = angle(p[[0,2,3]])\n",
    "    a4 = angle(p[[1,2,3]])\n",
    "    if (a1 * a2 <= 0) and (a3 * a4 <= 0):\n",
    "        return True\n",
    "    if (a2 * a3 <= 0) and (a1 * a4 <= 0):\n",
    "        return True\n",
    "\n",
    "    return False\n",
    "\n",
    "def is_simple(p):\n",
    "    '''returns True if quadrilateral p is non-intersecting with 4 distinct edges.'''\n",
    "    return not (self_intersecting(p) or colinear(p))\n",
    "\n",
    "def colinear(p):\n",
    "    '''returns True if consecutive edges in quadrilateral p are colinear.''' \n",
    "    e = np.diff(np.vstack([p,p[0]]),axis=0)\n",
    "    return any(np.linalg.det([e[:2],e[1:3],e[2:],e[[3,0]]]) == 0)\n",
    "\n",
    "def rquadril(N,M):\n",
    "    '''generates a random quadrilateral with points 0<=x<=N, 0<=y<=M'''\n",
    "    X = np.random.randint(0, N + 1, 4)\n",
    "    Y = np.random.randint(0, M + 1, 4)\n",
    "    return np.dstack([X,Y])[0]\n",
    "\n",
    "def plot_poly(a, N, M):\n",
    "    fig = plt.figure()\n",
    "    ax = plt.axes(xlim=(-0.5, N + 0.5), ylim=(-0.5, M + 0.5))\n",
    "    poly = plt.Polygon(a, fill=None)\n",
    "    ax.add_patch(poly)\n",
    "    plt.scatter(*zip(*it.product(range(N + 1),range(M + 1))))\n",
    "    \n",
    "    fig.suptitle(\"self-intersecting: {}\\ncolinear: {}\".format(self_intersecting(a), colinear(a)))\n",
    "    plt.show()"
   ]
  },
  {
   "cell_type": "code",
   "execution_count": 514,
   "metadata": {
    "collapsed": false
   },
   "outputs": [
    {
     "data": {
      "image/png": "[encoded data removed]",
      "text/plain": [
       "<matplotlib.figure.Figure at 0x10cdbcfd0>"
      ]
     },
     "metadata": {},
     "output_type": "display_data"
    }
   ],
   "source": [
    "N, M = 5, 3\n",
    "r = rquadril(N,M)\n",
    "plot_poly(r,N,M)"
   ]
  },
  {
   "cell_type": "code",
   "execution_count": 515,
   "metadata": {
    "collapsed": false
   },
   "outputs": [
    {
     "data": {
      "text/plain": [
       "0.3562"
      ]
     },
     "execution_count": 515,
     "metadata": {},
     "output_type": "execute_result"
    }
   ],
   "source": [
    "sum(not self_intersecting(rquadril(N,M)) for _ in range(10**4))/10**4"
   ]
  },
  {
   "cell_type": "code",
   "execution_count": null,
   "metadata": {
    "collapsed": true
   },
   "outputs": [],
   "source": []
  }
 ],
 "metadata": {
  "kernelspec": {
   "display_name": "Python 3",
   "language": "python",
   "name": "python3"
  },
  "language_info": {
   "codemirror_mode": {
    "name": "ipython",
    "version": 3
   },
   "file_extension": ".py",
   "mimetype": "text/x-python",
   "name": "python",
   "nbconvert_exporter": "python",
   "pygments_lexer": "ipython3",
   "version": "3.5.1"
  }
 },
 "nbformat": 4,
 "nbformat_minor": 0
}
